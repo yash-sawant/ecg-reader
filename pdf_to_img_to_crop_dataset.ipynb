{
 "cells": [
  {
   "cell_type": "code",
   "execution_count": 1,
   "id": "55cbc712",
   "metadata": {},
   "outputs": [],
   "source": [
    "import os\n",
    "os.environ[\"KMP_DUPLICATE_LIB_OK\"]=\"TRUE\""
   ]
  },
  {
   "cell_type": "code",
   "execution_count": 2,
   "id": "9dc04540",
   "metadata": {},
   "outputs": [],
   "source": [
    "from PIL import Image\n",
    "import cv2\n",
    "from pdf2image import convert_from_path,convert_from_bytes\n",
    "import numpy as np\n",
    "\n",
    "\n",
    "POPPLER_PATH = r'C:\\\\Users\\\\yashs\\\\Workspace\\\\Softwares\\\\poppler-0.68.0_x86\\\\poppler-0.68.0\\\\bin'\n",
    "# pytesseract.pytesseract.tesseract_cmd = r'C:\\\\Users\\\\yashs\\\\Workspace\\\\Softwares\\\\Tesseract-OCR\\\\tesseract'\n",
    "# Example tesseract_cmd = r'C:\\Program Files (x86)\\Tesseract-OCR\\tesseract'"
   ]
  },
  {
   "cell_type": "code",
   "execution_count": 3,
   "id": "af91d91b",
   "metadata": {},
   "outputs": [
    {
     "name": "stderr",
     "output_type": "stream",
     "text": [
      "CUDA not available - defaulting to CPU. Note: This module is much faster with a GPU.\n"
     ]
    }
   ],
   "source": [
    "from app.ocr_funcs import get_crops"
   ]
  },
  {
   "cell_type": "code",
   "execution_count": 10,
   "id": "349a4e24",
   "metadata": {},
   "outputs": [],
   "source": [
    "def get_image_from_pdf(path):\n",
    "    dpi = 300\n",
    "    img = convert_from_path(path, dpi=dpi, first_page=1, last_page=1, poppler_path=POPPLER_PATH)[0]\n",
    "    img = cv2.cvtColor(np.array(img), cv2.COLOR_BGR2RGB)\n",
    "    return img"
   ]
  },
  {
   "cell_type": "code",
   "execution_count": 6,
   "id": "ec2714b1",
   "metadata": {},
   "outputs": [],
   "source": [
    "pdf_path = './private_data/EK_000008.pdf'"
   ]
  },
  {
   "cell_type": "code",
   "execution_count": 7,
   "id": "425a94c2",
   "metadata": {},
   "outputs": [],
   "source": [
    "img_original = get_image_from_pdf(pdf_path)"
   ]
  },
  {
   "cell_type": "code",
   "execution_count": 9,
   "id": "fe32000d",
   "metadata": {},
   "outputs": [],
   "source": [
    "normal_img = '../normal/'\n",
    "fa_img = '../FA/'\n",
    "\n",
    "target_folder = '../img_dataset/'"
   ]
  },
  {
   "cell_type": "code",
   "execution_count": 11,
   "id": "0d55cf45",
   "metadata": {},
   "outputs": [],
   "source": [
    "folder_path = normal_img\n",
    "for filename in os.listdir(folder_path):\n",
    "    img_path = folder_path + filename\n",
    "    img_original = get_image_from_pdf(img_path)\n",
    "    target_img_path = target_folder + filename.split('.')[0] + '_normal.jpg' \n",
    "    cv2.imwrite(target_img_path,img_original)\n"
   ]
  },
  {
   "cell_type": "code",
   "execution_count": 12,
   "id": "0125f162",
   "metadata": {},
   "outputs": [],
   "source": [
    "folder_path = fa_img\n",
    "for filename in os.listdir(folder_path):\n",
    "    img_path = folder_path + filename\n",
    "    img_original = get_image_from_pdf(img_path)\n",
    "    target_img_path = target_folder + filename.split('.')[0] + '_fa.jpg' \n",
    "    cv2.imwrite(target_img_path,img_original)"
   ]
  },
  {
   "cell_type": "code",
   "execution_count": null,
   "id": "65d1c853",
   "metadata": {},
   "outputs": [],
   "source": []
  },
  {
   "cell_type": "code",
   "execution_count": null,
   "id": "661be8c0",
   "metadata": {},
   "outputs": [],
   "source": []
  },
  {
   "cell_type": "code",
   "execution_count": 1,
   "id": "2107e265",
   "metadata": {},
   "outputs": [
    {
     "name": "stderr",
     "output_type": "stream",
     "text": [
      "CUDA not available - defaulting to CPU. Note: This module is much faster with a GPU.\n"
     ]
    }
   ],
   "source": [
    "from tqdm import tqdm\n",
    "from app.ocr_funcs import get_crops\n",
    "import traceback\n",
    "import sys\n",
    "import os\n",
    "import cv2"
   ]
  },
  {
   "cell_type": "code",
   "execution_count": 2,
   "id": "9a0a8346",
   "metadata": {},
   "outputs": [],
   "source": [
    "folder_list = ['I',\n",
    "'aVR',\n",
    "'V1',\n",
    "'V4',\n",
    "'II',\n",
    "'aVL',\n",
    "'V2',\n",
    "'V5',\n",
    "'III',\n",
    "'aVF',\n",
    "'V3',\n",
    "'V6',\n",
    "'II_2']\n",
    "\n",
    "# for f in folder_list:\n",
    "#     os.makedirs('../cropped_img/'+f,exist_ok=True)"
   ]
  },
  {
   "cell_type": "code",
   "execution_count": null,
   "id": "947afe1f",
   "metadata": {},
   "outputs": [
    {
     "name": "stderr",
     "output_type": "stream",
     "text": [
      "  6%|████▌                                                                          | 36/623 [20:04<5:56:56, 36.48s/it]"
     ]
    }
   ],
   "source": [
    "\n",
    "raw_img_dir = '../img_dataset'\n",
    "target_dir = '../cropped_img/'\n",
    "\n",
    "error_list = []\n",
    "missed_list = []\n",
    "\n",
    "for r_img_path in tqdm(list(os.listdir(raw_img_dir))[10:]):\n",
    "    img = cv2.imread(os.path.join(raw_img_dir,r_img_path))\n",
    "#     print(r_img_path)\n",
    "    try:\n",
    "        img_list = get_crops(img)\n",
    "        for n,i in img_list:\n",
    "            if 0 not in i.shape:\n",
    "                cv2.imwrite(target_dir+n+'/'+os.path.splitext(r_img_path)[0]+'.jpg',i)\n",
    "            else:\n",
    "#                 print('No Image:', n)\n",
    "#                 print(i.shape)\n",
    "                missed_list.append((r_img_path,n,i.shape)) \n",
    "    except Exception:\n",
    "#         print(img_list)\n",
    "        error_list.append(r_img_path)\n",
    "        print(traceback.format_exc())\n",
    "        raise Exception\n",
    "        "
   ]
  },
  {
   "cell_type": "code",
   "execution_count": null,
   "id": "845965f9",
   "metadata": {},
   "outputs": [],
   "source": []
  }
 ],
 "metadata": {
  "kernelspec": {
   "display_name": "Python [conda env:pvenv]",
   "language": "python",
   "name": "conda-env-pvenv-py"
  },
  "language_info": {
   "codemirror_mode": {
    "name": "ipython",
    "version": 3
   },
   "file_extension": ".py",
   "mimetype": "text/x-python",
   "name": "python",
   "nbconvert_exporter": "python",
   "pygments_lexer": "ipython3",
   "version": "3.9.16"
  }
 },
 "nbformat": 4,
 "nbformat_minor": 5
}
