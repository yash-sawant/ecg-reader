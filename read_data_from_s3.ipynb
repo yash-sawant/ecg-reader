{
 "cells": [
  {
   "cell_type": "code",
   "execution_count": null,
   "id": "480cb2c6",
   "metadata": {},
   "outputs": [],
   "source": [
    "import boto3\n",
    "import io\n",
    "import cv2\n",
    "import os\n",
    "\n",
    "# Set the AWS credentials\n",
    "aws_access_key_id = ''\n",
    "aws_secret_access_key = ''\n",
    "\n",
    "# Create an S3 resource with the credentials\n",
    "s3 = boto3.resource('s3', aws_access_key_id=aws_access_key_id, aws_secret_access_key=aws_secret_access_key)\n",
    "\n",
    "# Set the bucket name and prefix\n",
    "bucket_name = 'ai-ecg'\n",
    "prefix = 'Normal/Normal/'\n",
    "\n",
    "# Get the S3 bucket object\n",
    "bucket = s3.Bucket(bucket_name)"
   ]
  },
  {
   "cell_type": "code",
   "execution_count": null,
   "id": "31ea7342",
   "metadata": {},
   "outputs": [],
   "source": [
    "# Download each image file\n",
    "for obj in bucket.objects.filter(Prefix=prefix):\n",
    "    key = obj.key\n",
    "    if key.endswith('.pdf'):\n",
    "        filename = './normal/'+os.path.basename(key)\n",
    "        print(filename)\n",
    "        bucket.download_file(key, filename)\n",
    "        "
   ]
  }
 ],
 "metadata": {
  "kernelspec": {
   "display_name": "Python [conda env:pvenv]",
   "language": "python",
   "name": "conda-env-pvenv-py"
  },
  "language_info": {
   "codemirror_mode": {
    "name": "ipython",
    "version": 3
   },
   "file_extension": ".py",
   "mimetype": "text/x-python",
   "name": "python",
   "nbconvert_exporter": "python",
   "pygments_lexer": "ipython3",
   "version": "3.9.16"
  }
 },
 "nbformat": 4,
 "nbformat_minor": 5
}
