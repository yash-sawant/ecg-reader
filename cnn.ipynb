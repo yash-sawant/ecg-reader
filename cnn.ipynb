{
 "cells": [
  {
   "cell_type": "code",
   "execution_count": 3,
   "id": "43f82f54",
   "metadata": {},
   "outputs": [
    {
     "name": "stdout",
     "output_type": "stream",
     "text": [
      "Collecting opencv-python\n",
      "  Using cached opencv_python-4.7.0.72-cp37-abi3-win_amd64.whl (38.2 MB)\n",
      "Requirement already satisfied: numpy>=1.17.0 in c:\\users\\yashs\\miniconda3\\envs\\tfpy37\\lib\\site-packages (from opencv-python) (1.21.5)\n",
      "Installing collected packages: opencv-python\n",
      "Successfully installed opencv-python-4.7.0.72\n"
     ]
    }
   ],
   "source": [
    "!pip install opencv-python"
   ]
  },
  {
   "cell_type": "code",
   "execution_count": 4,
   "id": "9dc9b29c",
   "metadata": {},
   "outputs": [],
   "source": [
    "import pandas as pd\n",
    "import cv2\n",
    "import os\n",
    "from PIL import Image\n",
    "from sklearn.model_selection import train_test_split\n",
    "import numpy as np"
   ]
  },
  {
   "cell_type": "code",
   "execution_count": 5,
   "id": "32065515",
   "metadata": {},
   "outputs": [],
   "source": [
    "img_dir = '../cropped_img/II/'\n",
    "\n",
    "img_size = 640, 320\n",
    "\n",
    "img_ds = []\n",
    "label = []\n",
    "\n",
    "for file in os.listdir(img_dir):\n",
    "    img = cv2.imread(img_dir+file)\n",
    "    H, W = img.shape[:2]\n",
    "    rs_img = cv2.resize(img,img_size)\n",
    "    label.append(file.split('_')[-1].split('.')[0])\n",
    "    img_ds.append(rs_img)\n",
    "\n",
    "    "
   ]
  },
  {
   "cell_type": "code",
   "execution_count": 6,
   "id": "32fe00e9",
   "metadata": {},
   "outputs": [
    {
     "data": {
      "text/plain": [
       "633"
      ]
     },
     "execution_count": 6,
     "metadata": {},
     "output_type": "execute_result"
    }
   ],
   "source": [
    "len(img_ds)"
   ]
  },
  {
   "cell_type": "code",
   "execution_count": 7,
   "id": "7af1df94",
   "metadata": {},
   "outputs": [
    {
     "data": {
      "text/plain": [
       "633"
      ]
     },
     "execution_count": 7,
     "metadata": {},
     "output_type": "execute_result"
    }
   ],
   "source": [
    "len(label)"
   ]
  },
  {
   "cell_type": "code",
   "execution_count": 26,
   "id": "9e09ec63",
   "metadata": {},
   "outputs": [],
   "source": [
    "y = np.array([1 if x == 'fa' else 0 for x in label])"
   ]
  },
  {
   "cell_type": "code",
   "execution_count": 27,
   "id": "825288ee",
   "metadata": {},
   "outputs": [],
   "source": [
    "img_ds = np.array(img_ds)"
   ]
  },
  {
   "cell_type": "code",
   "execution_count": 28,
   "id": "38f2b8fd",
   "metadata": {},
   "outputs": [
    {
     "data": {
      "text/plain": [
       "(633, 320, 640, 3)"
      ]
     },
     "execution_count": 28,
     "metadata": {},
     "output_type": "execute_result"
    }
   ],
   "source": [
    "img_ds.shape"
   ]
  },
  {
   "cell_type": "code",
   "execution_count": 29,
   "id": "0bf11ad7",
   "metadata": {},
   "outputs": [],
   "source": [
    "X_train, X_test, y_train, y_test = train_test_split(img_ds, y, test_size=0.2, stratify=label, random_state=42)\n",
    "\n",
    "# Further split the training set into training and validation sets\n",
    "X_train, X_val, y_train, y_val = train_test_split(X_train, y_train, test_size=0.2, random_state=42)\n"
   ]
  },
  {
   "cell_type": "code",
   "execution_count": 30,
   "id": "3d72e255",
   "metadata": {},
   "outputs": [
    {
     "data": {
      "text/plain": [
       "(404, 320, 640, 3)"
      ]
     },
     "execution_count": 30,
     "metadata": {},
     "output_type": "execute_result"
    }
   ],
   "source": [
    "X_train.shape"
   ]
  },
  {
   "cell_type": "code",
   "execution_count": 31,
   "id": "0dda561f",
   "metadata": {},
   "outputs": [],
   "source": [
    "from keras.models import Sequential\n",
    "from keras.layers import Conv2D, MaxPooling2D, Flatten, Dense, Dropout\n",
    "\n",
    "# Define the model architecture\n",
    "model = Sequential()\n",
    "\n",
    "# First convolutional layer with 32 filters, a 3x3 kernel, and ReLU activation\n",
    "model.add(Conv2D(32, (3, 3), activation='relu', input_shape=(320, 640, 3)))\n",
    "\n",
    "# Max pooling layer with a 2x2 pool size\n",
    "model.add(MaxPooling2D(pool_size=(2, 2)))\n",
    "\n",
    "# Second convolutional layer with 64 filters, a 3x3 kernel, and ReLU activation\n",
    "model.add(Conv2D(64, (3, 3), activation='relu'))\n",
    "\n",
    "# Max pooling layer with a 2x2 pool size\n",
    "model.add(MaxPooling2D(pool_size=(2, 2)))\n",
    "\n",
    "# Flatten the output of the convolutional layers\n",
    "model.add(Flatten())\n",
    "\n",
    "# Fully connected layer with 512 units and ReLU activation\n",
    "model.add(Dense(512, activation='relu'))\n",
    "\n",
    "# Dropout layer with a rate of 0.5 to reduce overfitting\n",
    "model.add(Dropout(0.5))\n",
    "\n",
    "# Output layer with a sigmoid activation for binary classification\n",
    "model.add(Dense(1, activation='sigmoid'))"
   ]
  },
  {
   "cell_type": "code",
   "execution_count": 32,
   "id": "3801368a",
   "metadata": {},
   "outputs": [
    {
     "name": "stdout",
     "output_type": "stream",
     "text": [
      "Epoch 1/10\n",
      "13/13 [==============================] - 62s 4s/step - loss: 2993.9246 - accuracy: 0.6807 - val_loss: 2.7516 - val_accuracy: 0.6863\n",
      "Epoch 2/10\n",
      "13/13 [==============================] - 47s 4s/step - loss: 1.4785 - accuracy: 0.7079 - val_loss: 0.6140 - val_accuracy: 0.6863\n",
      "Epoch 3/10\n",
      "13/13 [==============================] - 48s 4s/step - loss: 0.4936 - accuracy: 0.8193 - val_loss: 0.6302 - val_accuracy: 0.6863\n",
      "Epoch 4/10\n",
      "13/13 [==============================] - 47s 4s/step - loss: 0.4564 - accuracy: 0.8218 - val_loss: 0.7254 - val_accuracy: 0.6863\n",
      "Epoch 5/10\n",
      "13/13 [==============================] - 47s 4s/step - loss: 0.4674 - accuracy: 0.8218 - val_loss: 0.6234 - val_accuracy: 0.6863\n",
      "Epoch 6/10\n",
      "13/13 [==============================] - 46s 4s/step - loss: 0.4729 - accuracy: 0.8168 - val_loss: 0.6636 - val_accuracy: 0.6863\n",
      "Epoch 7/10\n",
      "13/13 [==============================] - 49s 4s/step - loss: 0.4591 - accuracy: 0.8168 - val_loss: 0.6638 - val_accuracy: 0.6863\n",
      "Epoch 8/10\n",
      "13/13 [==============================] - 49s 4s/step - loss: 0.4626 - accuracy: 0.8168 - val_loss: 0.6734 - val_accuracy: 0.6863\n",
      "Epoch 9/10\n",
      "13/13 [==============================] - 47s 4s/step - loss: 0.4634 - accuracy: 0.8218 - val_loss: 0.6510 - val_accuracy: 0.6863\n",
      "Epoch 10/10\n",
      "13/13 [==============================] - 48s 4s/step - loss: 0.4567 - accuracy: 0.8342 - val_loss: 0.6670 - val_accuracy: 0.7157\n"
     ]
    },
    {
     "data": {
      "text/plain": [
       "<keras.callbacks.History at 0x18a8eea03c8>"
      ]
     },
     "execution_count": 32,
     "metadata": {},
     "output_type": "execute_result"
    }
   ],
   "source": [
    "# Compile the model with binary cross-entropy loss, Adam optimizer, and accuracy metric\n",
    "model.compile(loss='binary_crossentropy', optimizer='adam', metrics=['accuracy'])\n",
    "\n",
    "# Train the model with the specified batch size and number of epochs\n",
    "history = model.fit(X_train, y_train, batch_size=32, epochs=10, validation_data=(X_val, y_val))"
   ]
  },
  {
   "cell_type": "code",
   "execution_count": 43,
   "id": "466db3f1",
   "metadata": {},
   "outputs": [
    {
     "name": "stdout",
     "output_type": "stream",
     "text": [
      "4/4 - 4s - loss: 0.4974 - accuracy: 0.8031 - 4s/epoch - 915ms/step\n"
     ]
    }
   ],
   "source": [
    "test_loss, test_acc = model.evaluate(X_test,  y_test, verbose=2)"
   ]
  },
  {
   "cell_type": "code",
   "execution_count": 45,
   "id": "68c1cc14",
   "metadata": {},
   "outputs": [
    {
     "data": {
      "text/plain": [
       "(100, 127)"
      ]
     },
     "execution_count": 45,
     "metadata": {},
     "output_type": "execute_result"
    }
   ],
   "source": [
    "sum(y_test),len(y_test)"
   ]
  },
  {
   "cell_type": "code",
   "execution_count": null,
   "id": "b00da577",
   "metadata": {},
   "outputs": [],
   "source": []
  }
 ],
 "metadata": {
  "kernelspec": {
   "display_name": "Python [conda env:tfpy37]",
   "language": "python",
   "name": "conda-env-tfpy37-py"
  },
  "language_info": {
   "codemirror_mode": {
    "name": "ipython",
    "version": 3
   },
   "file_extension": ".py",
   "mimetype": "text/x-python",
   "name": "python",
   "nbconvert_exporter": "python",
   "pygments_lexer": "ipython3",
   "version": "3.7.13"
  }
 },
 "nbformat": 4,
 "nbformat_minor": 5
}
