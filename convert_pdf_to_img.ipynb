{
 "cells": [
  {
   "cell_type": "code",
   "execution_count": 4,
   "id": "9dc04540",
   "metadata": {},
   "outputs": [],
   "source": [
    "from PIL import Image\n",
    "import pytesseract\n",
    "from pytesseract import Output\n",
    "import cv2\n",
    "from pdf2image import convert_from_path,convert_from_bytes\n",
    "import numpy as np\n",
    "import os\n",
    "\n",
    "POPPLER_PATH = r'C:\\\\Users\\\\yashs\\\\Workspace\\\\Softwares\\\\poppler-0.68.0_x86\\\\poppler-0.68.0\\\\bin'\n",
    "pytesseract.pytesseract.tesseract_cmd = r'C:\\\\Users\\\\yashs\\\\Workspace\\\\Softwares\\\\Tesseract-OCR\\\\tesseract'\n",
    "# Example tesseract_cmd = r'C:\\Program Files (x86)\\Tesseract-OCR\\tesseract'"
   ]
  },
  {
   "cell_type": "code",
   "execution_count": 14,
   "id": "349a4e24",
   "metadata": {},
   "outputs": [],
   "source": [
    "def get_image_from_pdf(path):\n",
    "    dpi = 300\n",
    "    img = convert_from_path(path, dpi=dpi, first_page=1, last_page=1, poppler_path=POPPLER_PATH)[0]\n",
    "    img = cv2.cvtColor(np.array(img), cv2.COLOR_BGR2RGB)\n",
    "    return img\n",
    "#     return np.array(img)"
   ]
  },
  {
   "cell_type": "code",
   "execution_count": 15,
   "id": "ec2714b1",
   "metadata": {},
   "outputs": [],
   "source": [
    "pdf_path = './private_data/EK_000001.pdf'"
   ]
  },
  {
   "cell_type": "code",
   "execution_count": 16,
   "id": "425a94c2",
   "metadata": {},
   "outputs": [],
   "source": [
    "img_original = get_image_from_pdf(pdf_path)"
   ]
  },
  {
   "cell_type": "code",
   "execution_count": 17,
   "id": "f9eec0ac",
   "metadata": {},
   "outputs": [],
   "source": [
    "pdf_dir = './private_data'\n",
    "for pdf_path in os.listdir(pdf_dir):\n",
    "    img = get_image_from_pdf(os.path.join(pdf_dir,pdf_path))\n",
    "    cv2.imwrite('test_images/'+os.path.splitext(pdf_path)[0]+'.jpg',img)"
   ]
  },
  {
   "cell_type": "code",
   "execution_count": null,
   "id": "a82dcc30",
   "metadata": {},
   "outputs": [],
   "source": []
  }
 ],
 "metadata": {
  "kernelspec": {
   "display_name": "Python [conda env:dc]",
   "language": "python",
   "name": "conda-env-dc-py"
  },
  "language_info": {
   "codemirror_mode": {
    "name": "ipython",
    "version": 3
   },
   "file_extension": ".py",
   "mimetype": "text/x-python",
   "name": "python",
   "nbconvert_exporter": "python",
   "pygments_lexer": "ipython3",
   "version": "3.10.4"
  }
 },
 "nbformat": 4,
 "nbformat_minor": 5
}
